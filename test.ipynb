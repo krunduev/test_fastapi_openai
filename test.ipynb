{
 "cells": [
  {
   "cell_type": "markdown",
   "metadata": {},
   "source": [
    "## Пример использования модуля кастомного chatGPT "
   ]
  },
  {
   "cell_type": "code",
   "execution_count": 1,
   "metadata": {},
   "outputs": [
    {
     "name": "stdout",
     "output_type": "stream",
     "text": [
      "Я - нейроконсультант в компании \"АльфаСтрахование\".\n"
     ]
    }
   ],
   "source": [
    "from chunks import Chunk\n",
    "\n",
    "# использование кастомного chagpt через модуль\n",
    "chunk = Chunk(path_to_base=\"avia.txt\")\n",
    "res = chunk.get_answer(query=\"Ты кто?\")\n",
    "print(res)"
   ]
  },
  {
   "cell_type": "code",
   "execution_count": 3,
   "metadata": {},
   "outputs": [
    {
     "name": "stdout",
     "output_type": "stream",
     "text": [
      "{\"message\":\"Я - нейроконсультант в компании \\\"АльфаСтрахование\\\".\"}\n"
     ]
    }
   ],
   "source": [
    "import requests\n",
    "\n",
    "payload = {\"text\": \"Ты кто?\"}\n",
    "response = requests.post(\"http://127.0.0.1:8000/api/get_answer\", json=payload)\n",
    "print(response.text)"
   ]
  }
 ],
 "metadata": {
  "kernelspec": {
   "display_name": "base",
   "language": "python",
   "name": "python3"
  },
  "language_info": {
   "codemirror_mode": {
    "name": "ipython",
    "version": 3
   },
   "file_extension": ".py",
   "mimetype": "text/x-python",
   "name": "python",
   "nbconvert_exporter": "python",
   "pygments_lexer": "ipython3",
   "version": "3.11.5"
  }
 },
 "nbformat": 4,
 "nbformat_minor": 2
}
